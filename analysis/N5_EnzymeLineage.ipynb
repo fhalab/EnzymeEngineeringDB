{
 "cells": [
  {
   "cell_type": "markdown",
   "id": "02bdbc65",
   "metadata": {},
   "source": [
    "# Plot lineage tree"
   ]
  },
  {
   "cell_type": "code",
   "execution_count": 1,
   "id": "df79b38d",
   "metadata": {},
   "outputs": [],
   "source": [
    "import pandas as pd\n",
    "\n",
    "# Load your CSV\n",
    "df = pd.read_csv(\"output/protein-evolution-database_V4_proteins_reactions_clean.csv\")  # change filename accordingly\n"
   ]
  },
  {
   "cell_type": "code",
   "execution_count": 4,
   "id": "3fd9718a",
   "metadata": {},
   "outputs": [],
   "source": [
    "enzyme_fam = {\n",
    "    \"https://doi.org/10.1038/s41557-021-00794-z\": \"p450\",\n",
    "    \"https://doi.org/10.1021/jacs.9b02931\": \"p450\",\n",
    "    \"doi.org/10.1021/jacs.0c01313\": \"p450\",\n",
    "    \"doi.org/10.1021/acscatal.0c01349\": \"p450\",\n",
    "    \"doi.org/10.1002/anie.202002861\": \"p450\",\n",
    "    \"doi.org/10.1021/jacs.1c11340\": \"p450\",\n",
    "    \"doi.org/10.1038/s41557-019-0343-5\": \"p450\",\n",
    "    \"doi.org/10.1021/acscatal.3c05370\": \"p450\",\n",
    "    \"doi.org/10.1021/jacs.9b04344\": \"p450\",\n",
    "    \"doi.org/10.1021/jacs.3c04870\": \"p450\",\n",
    "    \"doi.org/10.1021/jacs.2c08285\": \"p450\",\n",
    "    \"doi.org/10.1021/acscentsci.3c00516\": \"p450\",\n",
    "    \"doi.org/10.1021/jacs.2c00251\": \"p450\",\n",
    "    \"doi.org/10.1038/s41929-024-01149-w\": \"p450\",\n",
    "    \"doi.org/10.1038/s44160-023-00431-2\": \"p450\",\n",
    "    \"doi.org/10.1002/anie.202303879\": \"p450\",\n",
    "    \"doi.org/10.1021/jacs.0c03428\": \"p450\",\n",
    "    \"doi.org/10.1038/s41929-022-00908-x\": \"p450\",\n",
    "    \"doi.org/10.1021/jacs.3c11722\": \"p450\",\n",
    "    \"doi.org/10.1002/anie.202110873\": \"p450\",\n",
    "    \"DOI: 10.1126/science.adi5554\": \"p450\",\n",
    "    \"https://doi.org/10.1021/jacs.3c08053\": \"pgb\",\n",
    "    \"https://doi.org/10.1002/anie.202208936\": \"pgb\",\n",
    "    \"doi/10.1021/jacs.4c04190\": \"pgb\",\n",
    "    \"doi.org/10.1021/jacs.2c02723\": \"pgb\",\n",
    "    \"doi.org/10.1021/jacs.4c09989\": \"pgb\",\n",
    "    \"DOI: 10.1126/science.aah6219\": \"rma\",\n",
    "    \"doi:10.1038/nature24996\": \"rma\",\n",
    "    \"doi: 10.1055/s-0037-1611662\": \"rma\",\n",
    "    \"doi.org/10.1021/acscatal.0c01888\": \"rma\",\n",
    "    \"doi.org/10.1038/s41589-024-01619-z\": \"trpb\",\n",
    "    \"doi.org/10.1002/anie.202106938\": \"trpb\",\n",
    "    \"doi.org/10.1002/cbic.201900497\": \"trpb\",\n",
    "    \"doi.org/10.1021/jacs.9b09864\": \"trpb\",\n",
    "    \"doi.org/10.1021/acscatal.9b02089\": \"trpb\",\n",
    "    \"https://doi.org/10.1021/jacs.9b11608\": \"non-heme-iron\"\n",
    "}"
   ]
  },
  {
   "cell_type": "code",
   "execution_count": 5,
   "id": "eed0629f",
   "metadata": {},
   "outputs": [],
   "source": [
    "# map DOI to enzyme family\n",
    "df[\"enzyme_family\"] = df[\"doi\"].map(enzyme_fam)"
   ]
  },
  {
   "cell_type": "code",
   "execution_count": 22,
   "id": "49f4632c",
   "metadata": {},
   "outputs": [
    {
     "data": {
      "text/plain": [
       "1341"
      ]
     },
     "execution_count": 22,
     "metadata": {},
     "output_type": "execute_result"
    }
   ],
   "source": [
    "df[\"id\"].nunique()"
   ]
  },
  {
   "cell_type": "code",
   "execution_count": 23,
   "id": "02f2b753",
   "metadata": {},
   "outputs": [
    {
     "data": {
      "text/plain": [
       "1341"
      ]
     },
     "execution_count": 23,
     "metadata": {},
     "output_type": "execute_result"
    }
   ],
   "source": [
    "len(df)"
   ]
  },
  {
   "cell_type": "code",
   "execution_count": 6,
   "id": "b0587568",
   "metadata": {},
   "outputs": [
    {
     "data": {
      "text/plain": [
       "Index(['culture_collection_entry', 'enzyme_name_from_paper',\n",
       "       'Uniprot_ID(if applicable)', 'comment', 'reaction_smiles',\n",
       "       'parent_DNA_sequence', 'parent_aminoacid_sequence',\n",
       "       'aminoacid_mutations_from_parent', 'variant_DNA_sequence',\n",
       "       'mutations_from_parent', 'cofactor', 'additive (if applicable)',\n",
       "       'additive_CAS', 'enzyme_form', 'substrate_concentration',\n",
       "       'activity_for_reaction_% (if applicable)', 'TTN (if applicable)',\n",
       "       'selectivity(ee%),diastereo or chemo should be a separate smiles entry',\n",
       "       'alternative_product_SMILES', 'failed_substrates (if available)',\n",
       "       'date published ', 'first author', 'paper title', 'doi', 'SUBMITTED BY',\n",
       "       'raw data name', 'cannonical_reactions', 'named_reactions', 'errors',\n",
       "       'parent_aa', 'variant_aa', 'warnings', 'id', 'enzyme_family'],\n",
       "      dtype='object')"
      ]
     },
     "execution_count": 6,
     "metadata": {},
     "output_type": "execute_result"
    }
   ],
   "source": [
    "df.columns"
   ]
  },
  {
   "cell_type": "code",
   "execution_count": 18,
   "id": "4d697cff",
   "metadata": {},
   "outputs": [],
   "source": [
    "# create a folder called \"lineage\" in this dircotry to store all the fasta files\n",
    "import os\n",
    "if not os.path.exists(\"lineage\"):\n",
    "    os.makedirs(\"lineage\")\n",
    "# make a subfolder called \"lineage/fasta\"\n",
    "if not os.path.exists(\"lineage/fasta\"):\n",
    "    os.makedirs(\"lineage/fasta\")\n",
    "# make a subfolder called \"lineage/alinged\"\n",
    "if not os.path.exists(\"lineage/aligned\"):\n",
    "    os.makedirs(\"lineage/aligned\")\n",
    "# make a subfolder called \"lineage/phylogenetic\"\n",
    "if not os.path.exists(\"lineage/phylogenetic\"):\n",
    "    os.makedirs(\"lineage/phylogenetic\")"
   ]
  },
  {
   "cell_type": "code",
   "execution_count": 26,
   "id": "c25dd5b9",
   "metadata": {},
   "outputs": [],
   "source": [
    "from pathlib import Path\n",
    "\n",
    "# Track which FASTA files we've already initialized\n",
    "initialized_families = set()\n",
    "\n",
    "for _, row in df.iterrows():\n",
    "    enzyme_family = row[\"enzyme_family\"]\n",
    "    if pd.isna(enzyme_family):\n",
    "        continue  # skip if enzyme family is not mapped\n",
    "\n",
    "    fasta_filename = Path(f\"lineage/fasta/{enzyme_family}.fasta\")\n",
    "\n",
    "    # If first time encountering this enzyme family, delete existing file\n",
    "    if enzyme_family not in initialized_families:\n",
    "        if fasta_filename.exists():\n",
    "            fasta_filename.unlink()  # delete file\n",
    "        initialized_families.add(enzyme_family)\n",
    "\n",
    "    # Append new entry\n",
    "    with open(fasta_filename, \"a\") as fasta_file:\n",
    "        fasta_file.write(f\">{row['id']}\\n{row['variant_aa']}\\n\")\n"
   ]
  },
  {
   "cell_type": "code",
   "execution_count": 27,
   "id": "8375b1a3",
   "metadata": {},
   "outputs": [],
   "source": [
    "from pathlib import Path\n",
    "from Bio.Align.Applications import MafftCommandline\n",
    "\n",
    "# for each fasta in the lineage/fasta directory align the sequences\n",
    "# and save the aligned sequences in the lineage/aligned folder with the same name\n",
    "\n",
    "# loop through all the fasta files \n",
    "folder = Path(\"lineage/fasta\")\n",
    "\n",
    "# Find all .fasta files (case-sensitive)\n",
    "fasta_files = list(folder.glob(\"*.fasta\"))\n",
    "\n",
    "for fasta_file in fasta_files:\n",
    "    enzyme_family = fasta_file.stem  # get the enzyme family from the filename\n",
    "    aligned_filename = f\"lineage/aligned/{enzyme_family}_aligned.fasta\"\n",
    "\n",
    "    # run MAFFT to align the sequences\n",
    "    mafft_cline = MafftCommandline(input=str(fasta_file))\n",
    "    stdout, stderr = mafft_cline()\n",
    "\n",
    "    # write the aligned sequences to the corresponding aligned fasta file\n",
    "    with open(aligned_filename, \"w\") as aligned_file:\n",
    "        aligned_file.write(stdout)\n"
   ]
  },
  {
   "cell_type": "code",
   "execution_count": 32,
   "id": "ad16c621",
   "metadata": {},
   "outputs": [
    {
     "name": "stderr",
     "output_type": "stream",
     "text": [
      "100%|██████████| 5/5 [05:22<00:00, 64.44s/it] \n"
     ]
    }
   ],
   "source": [
    "from tqdm import tqdm\n",
    "from pathlib import Path\n",
    "from Bio import AlignIO, Phylo\n",
    "from Bio.Phylo.TreeConstruction import DistanceCalculator, DistanceTreeConstructor\n",
    "import matplotlib.pyplot as plt\n",
    "\n",
    "# for each aligned fasta in the lineage/aligned directory, create a phylogenetic tree\n",
    "aligned_folder = Path(\"lineage/aligned\")\n",
    "phylo_dir = Path(\"lineage/phylogenetic\")\n",
    "phylo_dir.mkdir(parents=True, exist_ok=True)\n",
    "\n",
    "aligned_files = list(aligned_folder.glob(\"*.fasta\"))\n",
    "\n",
    "for aligned_file in tqdm(aligned_files):\n",
    "    enzyme_family = aligned_file.stem\n",
    "    phylo_filename = phylo_dir / f\"{enzyme_family}.nwk\"\n",
    "    img_filename = phylo_dir / f\"{enzyme_family}.png\"\n",
    "\n",
    "    # read the aligned sequences\n",
    "    alignment = AlignIO.read(str(aligned_file), \"fasta\")\n",
    "\n",
    "    # calculate distance matrix\n",
    "    calculator = DistanceCalculator('identity')\n",
    "    distance_matrix = calculator.get_distance(alignment)\n",
    "\n",
    "    # construct the phylogenetic tree\n",
    "    constructor = DistanceTreeConstructor()\n",
    "    tree = constructor.nj(distance_matrix)\n",
    "\n",
    "    # write the tree to a Newick file\n",
    "    Phylo.write(tree, phylo_filename, \"newick\")\n",
    "\n",
    "    # Remove internal node names\n",
    "    tip_names = set(record.id for record in alignment)\n",
    "    for clade in tree.get_nonterminals():\n",
    "        if clade.name not in tip_names:\n",
    "            clade.name = None\n",
    "\n",
    "    # Draw the tree to a specific matplotlib figure\n",
    "    fig = plt.figure(figsize=(10, max(4, len(alignment) * 0.3)))  # auto-adjust height\n",
    "    ax = fig.add_subplot(1, 1, 1)\n",
    "    Phylo.draw(tree, do_show=False, axes=ax, branch_labels=None)\n",
    "    fig.savefig(img_filename, dpi=300, bbox_inches=\"tight\")\n",
    "    plt.close(fig)\n"
   ]
  },
  {
   "cell_type": "code",
   "execution_count": null,
   "id": "bd81a568",
   "metadata": {},
   "outputs": [],
   "source": []
  }
 ],
 "metadata": {
  "kernelspec": {
   "display_name": "multisubstrates",
   "language": "python",
   "name": "python3"
  },
  "language_info": {
   "codemirror_mode": {
    "name": "ipython",
    "version": 3
   },
   "file_extension": ".py",
   "mimetype": "text/x-python",
   "name": "python",
   "nbconvert_exporter": "python",
   "pygments_lexer": "ipython3",
   "version": "3.11.11"
  }
 },
 "nbformat": 4,
 "nbformat_minor": 5
}
